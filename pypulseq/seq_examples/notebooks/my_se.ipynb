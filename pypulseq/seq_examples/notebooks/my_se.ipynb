{
 "cells": [
  {
   "cell_type": "markdown",
   "metadata": {
    "colab_type": "text",
    "id": "MiKvRj5u076V"
   },
   "source": [
    "## **ABOUT**\n",
    "This is an demo SE sequence based on pypulseq offical codes. Author: linkaisheng; email: linkaisheng@stu.pku.edu.cn\n",
    "\n",
    "This example illustrates the 2D multi-slice, Spin Echo (SE) acquisition using the `pypulseq` library. This sequence is typically used for T<sub>2</sub> weighted imaging. A 2D Fourier transform can be used to reconstruct images from this acquisition. Read more about SE [here](http://mriquestions.com/se-vs-multi-se-vs-fse.html).\n",
    "\n",
    "**Contact**: For issues, write to ks3621@columbia.edu\n",
    "\n",
    "---"
   ]
  },
  {
   "cell_type": "markdown",
   "metadata": {
    "colab_type": "text",
    "id": "UgqzEwle2xCd"
   },
   "source": [
    "## **IMPORT PACKAGES**"
   ]
  },
  {
   "cell_type": "code",
   "execution_count": 10,
   "metadata": {
    "colab": {},
    "colab_type": "code",
    "id": "3X7UsV832B6j"
   },
   "outputs": [],
   "source": [
    "from math import pi\n",
    "\n",
    "import numpy as np\n",
    "\n",
    "from pypulseq.Sequence.sequence import Sequence\n",
    "from pypulseq.calc_duration import calc_duration\n",
    "from pypulseq.make_adc import make_adc\n",
    "from pypulseq.make_delay import make_delay\n",
    "from pypulseq.make_sinc_pulse import make_sinc_pulse\n",
    "from pypulseq.make_block_pulse import make_block_pulse\n",
    "from pypulseq.make_trapezoid import make_trapezoid\n",
    "from pypulseq.opts import Opts"
   ]
  },
  {
   "cell_type": "markdown",
   "metadata": {
    "colab_type": "text",
    "id": "UQ4AWw9l4et_"
   },
   "source": [
    "## **USER INPUTS**\n",
    "\n",
    "These parameters are typically on the user interface of the scanner computer console "
   ]
  },
  {
   "cell_type": "code",
   "execution_count": 2,
   "metadata": {
    "colab": {},
    "colab_type": "code",
    "id": "ssnNwiQH4q_0"
   },
   "outputs": [
    {
     "name": "stdout",
     "output_type": "stream",
     "text": [
      "User inputs setup - custom definition\n"
     ]
    }
   ],
   "source": [
    "nsa = 1  # Number of averages\n",
    "n_slices = 1  # Number of slices\n",
    "Nx = 40\n",
    "Ny = 40\n",
    "fov = 150  # mm\n",
    "slice_thickness = 0  # s\n",
    "slice_gap = 0  # s\n",
    "rf_flip = 90  # degrees\n",
    "rf_offset = 0\n",
    "print('User inputs setup - custom definition')"
   ]
  },
  {
   "cell_type": "markdown",
   "metadata": {
    "colab_type": "text",
    "id": "PeYeI0V45ZfD"
   },
   "source": [
    "## **SYSTEM LIMITS**\n",
    "Set the hardware limits and initialize sequence object using Josalggui's MaRGE hw parameters."
   ]
  },
  {
   "cell_type": "code",
   "execution_count": 7,
   "metadata": {
    "colab": {},
    "colab_type": "code",
    "id": "XHs1LT965kqg"
   },
   "outputs": [],
   "source": [
    "system = Opts(adc_dead_time=0,          # Dead time for ADC readout pulses.\n",
    "    adc_raster_time=100e-9,             # Raster time for ADC readout pulses.\n",
    "    block_duration_raster=20e-6,        # Raster time for block durations.\n",
    "    gamma=42.576e6,                     # Gyromagnetic ratio. Default gamma is specified for Hydrogen.\n",
    "    grad_raster_time=20e-6,             # Extreme limit is 5us but here we define 20us \n",
    "    grad_unit='mT/m',\n",
    "    max_grad=80,                        # Maximum gradient amplitude.\n",
    "    max_slew=50e-3,                     # Maximum slew rate.\n",
    "    rf_dead_time=400e-6,                # Dead time for radio-frequency pulses.\n",
    "    rf_raster_time=1/(1.2288e8),        # Raster time for radio-frequency pulses. Rf resolution is 1/(clock freqency).\n",
    "    rf_ringdown_time=0,                 # Ringdown time for radio-frequency pulses.\n",
    "    # adc_samples_limit=0,                # Maximum number of samples for a single ADC object. If 0, no limit is set.\n",
    "    # adc_samples_divisor=1,              # Samples of ADC must be divisible by 'adc_samples_divisor'.\n",
    "    rise_time=400e-6,                   # Rise time for gradients.\n",
    "    slew_unit='mT/m/ms',\n",
    "    B0=0.072                           # Main magnetic field strength (in tesla)\n",
    "    )\n",
    "seq = Sequence(system)"
   ]
  },
  {
   "cell_type": "markdown",
   "metadata": {
    "colab_type": "text",
    "id": "ee-xBrpa7Zyn"
   },
   "source": [
    "## **TIME CONSTANTS**"
   ]
  },
  {
   "cell_type": "code",
   "execution_count": 8,
   "metadata": {
    "colab": {},
    "colab_type": "code",
    "id": "u2dW2nRf7obq"
   },
   "outputs": [],
   "source": [
    "TE = 20e-3  # s\n",
    "TR = 0.3  # s\n",
    "tau = TE / 2  # s\n",
    "readout_time = 2.5e-3 #s, readout gradient time?\n",
    "pre_time = 1e-3  # s, readout prephasing time?"
   ]
  },
  {
   "cell_type": "markdown",
   "metadata": {
    "colab_type": "text",
    "id": "OTw7M03g79bH"
   },
   "source": [
    "## **RF**"
   ]
  },
  {
   "cell_type": "code",
   "execution_count": 11,
   "metadata": {},
   "outputs": [],
   "source": [
    "flip90 = round(rf_flip * pi / 180, 3)\n",
    "flip180 = 180 * pi / 180\n",
    "rf90, de90= make_block_pulse(flip_angle=flip90, \n",
    "                             system=system,\n",
    "                             duration=35e-6, #s\n",
    "                             freq_offset=0, #Hz\n",
    "                             phase_offset=0, \n",
    "                             #time_bw_product=4,\n",
    "                             return_delay= True\n",
    "                            )\n"
   ]
  },
  {
   "cell_type": "markdown",
   "metadata": {
    "colab_type": "text",
    "id": "RFSHuUOG9LHK"
   },
   "source": [
    "## **READOUT**\n",
    "Readout gradients and related events"
   ]
  },
  {
   "cell_type": "code",
   "execution_count": 7,
   "metadata": {
    "colab": {},
    "colab_type": "code",
    "id": "Q8p-CttI9dk9"
   },
   "outputs": [],
   "source": [
    "delta_k = 1 / fov\n",
    "k_width = Nx * delta_k\n",
    "gx = make_trapezoid(channel='x', system=system, flat_area=k_width, \n",
    "                    flat_time=readout_time)\n",
    "adc = make_adc(num_samples=Nx, duration=gx.flat_time, delay=gx.rise_time)"
   ]
  },
  {
   "cell_type": "markdown",
   "metadata": {
    "colab_type": "text",
    "id": "o829kzm8kVFB"
   },
   "source": [
    "## **PREPHASE AND REPHASE**"
   ]
  },
  {
   "cell_type": "code",
   "execution_count": 8,
   "metadata": {
    "colab": {},
    "colab_type": "code",
    "id": "m5zA1bMakTVs"
   },
   "outputs": [],
   "source": [
    "phase_areas = (np.arange(Ny) - (Ny / 2)) * delta_k\n",
    "gz_reph = make_trapezoid(channel='z', system=system, area=-gz90.area / 2,\n",
    "                         duration=2.5e-3)\n",
    "gx_pre = make_trapezoid(channel='x', system=system, flat_area=k_width / 2, \n",
    "                        flat_time=readout_time / 2)\n",
    "gy_pre = make_trapezoid(channel='y', system=system, area=phase_areas[-1], \n",
    "                        duration=2e-3)"
   ]
  },
  {
   "cell_type": "markdown",
   "metadata": {
    "colab_type": "text",
    "id": "5Css5esAkYHo"
   },
   "source": [
    "## **SPOILER**"
   ]
  },
  {
   "cell_type": "code",
   "execution_count": 9,
   "metadata": {
    "colab": {},
    "colab_type": "code",
    "id": "R1DOmoKKkawr"
   },
   "outputs": [],
   "source": [
    "gz_spoil = make_trapezoid(channel='z', system=system, area=gz90.area * 4,\n",
    "                          duration=pre_time * 4)"
   ]
  },
  {
   "cell_type": "markdown",
   "metadata": {
    "colab_type": "text",
    "id": "3F5JUpE9-4lo"
   },
   "source": [
    "## **DELAYS**\n",
    "Echo time (TE) and repetition time (TR). Here, TE is broken down into `delay1` and `delay2`."
   ]
  },
  {
   "cell_type": "code",
   "execution_count": 10,
   "metadata": {
    "colab": {},
    "colab_type": "code",
    "id": "aOKRJclb_mDQ"
   },
   "outputs": [
    {
     "name": "stdout",
     "output_type": "stream",
     "text": [
      "delay_1: namespace(type='delay', delay=0.04281)\n",
      "delay_2: namespace(type='delay', delay=0.04281)\n",
      "delay_TR: namespace(type='delay', delay=2.8927250000000004)\n"
     ]
    }
   ],
   "source": [
    "delay1 = tau - calc_duration(rf90) / 2 - calc_duration(gx_pre)\n",
    "delay1 -= calc_duration(gz_spoil) - calc_duration(rf180) / 2\n",
    "delay1 = make_delay(delay1)\n",
    "delay2 = tau - calc_duration(rf180) / 2 - calc_duration(gz_spoil)\n",
    "delay2 -= calc_duration(gx) / 2\n",
    "delay2 = make_delay(delay2)\n",
    "delay_TR = TR - calc_duration(rf90) / 2 - calc_duration(gx) / 2 - TE\n",
    "delay_TR -= calc_duration(gy_pre)\n",
    "delay_TR = make_delay(delay_TR)\n",
    "print(f'delay_1: {delay1}')\n",
    "print(f'delay_2: {delay1}')\n",
    "print(f'delay_TR: {delay_TR}')"
   ]
  },
  {
   "cell_type": "markdown",
   "metadata": {
    "colab_type": "text",
    "id": "6Dq4wT-UAEOR"
   },
   "source": [
    "## **CONSTRUCT SEQUENCE**\n",
    "Construct sequence for one phase encode and multiple slices"
   ]
  },
  {
   "cell_type": "code",
   "execution_count": 11,
   "metadata": {
    "colab": {},
    "colab_type": "code",
    "id": "B8ZmVkkrAXnK"
   },
   "outputs": [],
   "source": [
    "# Prepare RF offsets. This is required for multi-slice acquisition\n",
    "delta_z = n_slices * slice_gap\n",
    "z = np.linspace((-delta_z / 2), (delta_z / 2), n_slices) + rf_offset\n",
    "\n",
    "for k in range(nsa):  # Averages\n",
    "  for j in range(n_slices):  # Slices\n",
    "    # Apply RF offsets\n",
    "    freq_offset = gz90.amplitude * z[j]\n",
    "    rf90.freq_offset = freq_offset\n",
    "\n",
    "    freq_offset = gz180.amplitude * z[j]\n",
    "    rf180.freq_offset = freq_offset\n",
    "\n",
    "    for i in range(Ny):  # Phase encodes\n",
    "      seq.add_block(rf90, gz90)\n",
    "      gy_pre = make_trapezoid(channel='y', system=system, \n",
    "                              area=phase_areas[-i -1], duration=2e-3)\n",
    "      seq.add_block(gx_pre, gy_pre, gz_reph)\n",
    "      seq.add_block(delay1)\n",
    "      seq.add_block(gz_spoil)\n",
    "      seq.add_block(rf180, gz180)\n",
    "      seq.add_block(gz_spoil)\n",
    "      seq.add_block(delay2)\n",
    "      seq.add_block(gx, adc)\n",
    "      gy_pre = make_trapezoid(channel='y', system=system, \n",
    "                              area=-phase_areas[-j -1], duration=2e-3)\n",
    "      seq.add_block(gy_pre, gz_spoil)\n",
    "      seq.add_block(delay_TR)"
   ]
  },
  {
   "cell_type": "markdown",
   "metadata": {
    "colab_type": "text",
    "id": "l-YP9djBJCpC"
   },
   "source": [
    "## **PLOTTING TIMNG DIAGRAM**"
   ]
  },
  {
   "cell_type": "code",
   "execution_count": 12,
   "metadata": {
    "colab": {},
    "colab_type": "code",
    "id": "d_iCUR4nfoH9"
   },
   "outputs": [
    {
     "data": {
      "image/png": "[encoded data removed]",
      "text/plain": [
       "<Figure size 640x480 with 3 Axes>"
      ]
     },
     "metadata": {},
     "output_type": "display_data"
    },
    {
     "data": {
      "image/png": "[encoded data removed]",
      "text/plain": [
       "<Figure size 640x480 with 3 Axes>"
      ]
     },
     "metadata": {},
     "output_type": "display_data"
    }
   ],
   "source": [
    "seq.plot(time_range=(0, 0.1))"
   ]
  },
  {
   "cell_type": "markdown",
   "metadata": {
    "colab_type": "text",
    "id": "fYNgdWc_KiK7"
   },
   "source": [
    "## **GENERATING `.SEQ` FILE**\n",
    "Uncomment the code in the cell below to generate a `.seq` file and download locally."
   ]
  },
  {
   "cell_type": "code",
   "execution_count": 0,
   "metadata": {
    "colab": {},
    "colab_type": "code",
    "id": "6iN0aeuuqKRe"
   },
   "outputs": [],
   "source": [
    "# seq.write('t2_se_pypulseq_colab.seq')  # Save to disk\n",
    "# from google.colab import files\n",
    "# files.download('t2_se_pypulseq_colab.seq')  # Download locally"
   ]
  },
  {
   "cell_type": "code",
   "execution_count": 0,
   "metadata": {
    "colab": {},
    "colab_type": "code",
    "id": "4Q0b5w-lKtfP"
   },
   "outputs": [],
   "source": []
  }
 ],
 "metadata": {
  "colab": {
   "collapsed_sections": [],
   "name": "write_t2_se.ipynb",
   "private_outputs": true,
   "provenance": []
  },
  "kernelspec": {
   "display_name": "Python 3",
   "language": "python",
   "name": "python3"
  },
  "language_info": {
   "codemirror_mode": {
    "name": "ipython",
    "version": 3
   },
   "file_extension": ".py",
   "mimetype": "text/x-python",
   "name": "python",
   "nbconvert_exporter": "python",
   "pygments_lexer": "ipython3",
   "version": "3.9.19"
  }
 },
 "nbformat": 4,
 "nbformat_minor": 1
}
